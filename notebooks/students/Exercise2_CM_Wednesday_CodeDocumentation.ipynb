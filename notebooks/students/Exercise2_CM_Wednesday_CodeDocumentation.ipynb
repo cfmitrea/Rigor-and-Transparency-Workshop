{
 "cells": [
  {
   "cell_type": "markdown",
   "metadata": {},
   "source": [
    "Code documentation:\n",
    "<br>\n",
    "<img src = \"https://stfalcon.com/uploads/images/55c8bcff18b94.png\">\n",
    "<br>\n",
    "https://stfalcon.com/uploads/images/55c8bcff18b94.png"
   ]
  },
  {
   "cell_type": "markdown",
   "metadata": {},
   "source": [
    "jupyter notebooks\n",
    "Use markdown type of cell \n",
    "\n",
    "Use docstrings \n",
    "https://docs.python.org/3/tutorial/controlflow.html#documentation-strings \n",
    "\n",
    "Example of a function and its documentation"
   ]
  },
  {
   "cell_type": "code",
   "execution_count": null,
   "metadata": {},
   "outputs": [],
   "source": [
    "'''\n",
    "Yet another module for gathering statistics for genomic sequences\n",
    "'''\n",
    "\n",
    "def countNucleotides(sequence):\n",
    "    \"\"\"Count the number of nucleotides in a sequence\n",
    "    \n",
    "    Args:\n",
    "        sequence (str): a non empty sequence of A, C, T, and G characters\n",
    "        \n",
    "    Returns:\n",
    "        dict: a distionary with the keys A, C, T and G and their frequency in the input sequence as values\n",
    "        \n",
    "    Raises:\n",
    "        ValueError: if the sequence contains other characters\n",
    "    \"\"\"\n",
    "    \n",
    "    result = dict()\n",
    "    result['A'] = 0;\n",
    "    result['C'] = 0;\n",
    "    result['T'] = 0;\n",
    "    result['G'] = 0;\n",
    "    for nucleotide in sequence:\n",
    "        if nucleotide in result:\n",
    "            result[nucleotide] +=1;\n",
    "        else:\n",
    "            raise ValueError(\"Invalid nucleotide: \" + nucleotide)\n",
    "    return result\n",
    "    "
   ]
  },
  {
   "cell_type": "code",
   "execution_count": null,
   "metadata": {},
   "outputs": [],
   "source": [
    "help(countNucleotides)"
   ]
  },
  {
   "cell_type": "code",
   "execution_count": null,
   "metadata": {},
   "outputs": [],
   "source": [
    "countNucleotides(\"ACTGGGAGCCCCC\")"
   ]
  },
  {
   "cell_type": "code",
   "execution_count": null,
   "metadata": {},
   "outputs": [],
   "source": [
    "countNucleotides(\"ACTGGGHAGCCCCC\")"
   ]
  },
  {
   "attachments": {},
   "cell_type": "markdown",
   "metadata": {},
   "source": [
    "EXERCISE: Document and re-write the following function to be easier to understand:"
   ]
  },
  {
   "cell_type": "code",
   "execution_count": null,
   "metadata": {},
   "outputs": [],
   "source": [
    "def foo(a,b): return ','.join(map(lambda s,n:s+str(n), [a for i in b], b))"
   ]
  },
  {
   "cell_type": "code",
   "execution_count": null,
   "metadata": {},
   "outputs": [],
   "source": [
    "help(foo)"
   ]
  },
  {
   "cell_type": "code",
   "execution_count": null,
   "metadata": {},
   "outputs": [],
   "source": [
    "foo(\"-\",[2,3,4])"
   ]
  },
  {
   "cell_type": "code",
   "execution_count": null,
   "metadata": {},
   "outputs": [],
   "source": [
    "foo(\"$\",[5,20,50,100])"
   ]
  },
  {
   "cell_type": "code",
   "execution_count": null,
   "metadata": {},
   "outputs": [],
   "source": []
  },
  {
   "cell_type": "markdown",
   "metadata": {},
   "source": [
    "EXERCISE: Write, document and test a function that computes the CG content of a sequence.\n",
    "<br><br>\n",
    "In molecular biology and genetics, GC-content (or guanine-cytosine content) is the percentage of nitrogenous bases on a DNA or RNA molecule that are either guanine or cytosine (from a possibility of four different ones, also including adenine and thymine in DNA and adenine and uracil in RNA).\n",
    "<br>\n",
    "https://en.wikipedia.org/wiki/GC-content\n"
   ]
  },
  {
   "cell_type": "code",
   "execution_count": null,
   "metadata": {},
   "outputs": [],
   "source": []
  }
 ],
 "metadata": {
  "kernelspec": {
   "display_name": "Python 3",
   "language": "python",
   "name": "python3"
  },
  "language_info": {
   "codemirror_mode": {
    "name": "ipython",
    "version": 3
   },
   "file_extension": ".py",
   "mimetype": "text/x-python",
   "name": "python",
   "nbconvert_exporter": "python",
   "pygments_lexer": "ipython3",
   "version": "3.7.3"
  }
 },
 "nbformat": 4,
 "nbformat_minor": 2
}
